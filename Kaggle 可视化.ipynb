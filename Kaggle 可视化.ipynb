{
 "cells": [
  {
   "cell_type": "markdown",
   "metadata": {},
   "source": [
    "## Kaggle 可视化 （18/06/09）"
   ]
  },
  {
   "cell_type": "code",
   "execution_count": 15,
   "metadata": {},
   "outputs": [],
   "source": [
    "import pandas as pd\n",
    "import seaborn as sns\n",
    "import matplotlib.pyplot as plt\n",
    "import numpy as np\n",
    "from keras.models import Sequential\n",
    "from keras.layers import Dense, Dropout, Activation,Flatten,MaxPool2D,Conv2D\n",
    "from keras.optimizers import SGD, Adam, RMSprop\n",
    "from keras.utils.np_utils import to_categorical\n",
    "from keras.utils.vis_utils import plot_model\n",
    "from sklearn.model_selection import train_test_split\n",
    "from keras.callbacks import ReduceLROnPlateau\n",
    "from keras.preprocessing.image import ImageDataGenerator\n",
    "from sklearn.metrics import confusion_matrix\n",
    "from sklearn.ensemble import VotingClassifier\n",
    "import itertools\n"
   ]
  },
  {
   "cell_type": "markdown",
   "metadata": {},
   "source": [
    "### 查看数据基本情况"
   ]
  },
  {
   "cell_type": "code",
   "execution_count": 3,
   "metadata": {},
   "outputs": [
    {
     "name": "stdout",
     "output_type": "stream",
     "text": [
      "<class 'pandas.core.frame.DataFrame'>\n",
      "RangeIndex: 42000 entries, 0 to 41999\n",
      "Columns: 785 entries, label to pixel783\n",
      "dtypes: int64(785)\n",
      "memory usage: 251.5 MB\n",
      "_____________________________________________________\n",
      "<class 'pandas.core.frame.DataFrame'>\n",
      "RangeIndex: 28000 entries, 0 to 27999\n",
      "Columns: 784 entries, pixel0 to pixel783\n",
      "dtypes: int64(784)\n",
      "memory usage: 167.5 MB\n"
     ]
    }
   ],
   "source": [
    "train_data=pd.read_csv('train.csv')\n",
    "test_data=pd.read_csv('test.csv')\n",
    "train_data.info()\n",
    "print('_____________________________________________________')\n",
    "test_data.info()\n",
    "batch_size = 256 # 在计算力允许的情况下，batch_size越大越好\n",
    "nb_classes = 10\n",
    "nb_epoch = 30"
   ]
  },
  {
   "cell_type": "code",
   "execution_count": 4,
   "metadata": {},
   "outputs": [
    {
     "name": "stdout",
     "output_type": "stream",
     "text": [
      "count       785\n",
      "unique        1\n",
      "top       False\n",
      "freq        785\n",
      "dtype: object\n",
      "_____________________________________________________\n",
      "count       784\n",
      "unique        1\n",
      "top       False\n",
      "freq        784\n",
      "dtype: object\n"
     ]
    }
   ],
   "source": [
    "# isnull()判断是否有缺失值；\n",
    "# any()返回是否有任何元素在请求轴上为真（会将DataFrame转为Series）,若axis=0则以columns为单位，若axis=1则以index为单位,axis默认为0；\n",
    "# describe()对数据进行描述性统计（对象属性会返回count计数和，unique不重复的值的数量，top最常见的值的value，freq最常见的值的频率）\n",
    "\n",
    "print(train_data.isnull().any().describe())\n",
    "print('_____________________________________________________')\n",
    "print(test_data.isnull().any().describe())"
   ]
  },
  {
   "cell_type": "markdown",
   "metadata": {},
   "source": [
    "### 数据预处理"
   ]
  },
  {
   "cell_type": "code",
   "execution_count": 5,
   "metadata": {},
   "outputs": [
    {
     "name": "stdout",
     "output_type": "stream",
     "text": [
      "(42000, 28, 28, 1)\n",
      "(28000, 28, 28, 1)\n",
      "Train Sample: 42000\n",
      "Test Sample: 28000\n"
     ]
    },
    {
     "data": {
      "image/png": "[encoded data removed]",
      "text/plain": [
       "<Figure size 432x288 with 1 Axes>"
      ]
     },
     "metadata": {},
     "output_type": "display_data"
    }
   ],
   "source": [
    "X_train=train_data.drop(columns=['label'])\n",
    "Y_train=train_data.label\n",
    "del train_data\n",
    "# 改变维度：第一个参数是图片数量，后三个参数是每个图片的维度\n",
    "X_train = X_train.values.reshape(-1,28,28,1)\n",
    "test_data = test_data.values.reshape(-1,28,28,1)\n",
    "print(X_train.shape)\n",
    "print(test_data.shape)\n",
    "print(\"Train Sample:\",X_train.shape[0])\n",
    "print(\"Test Sample:\",test_data.shape[0])\n",
    "# 归一化：将数据进行归一化到0-1 因为图像数据最大是255\n",
    "X_train=X_train/255.0\n",
    "test_data=test_data/255.0\n",
    "# 将类别向量(从0到nb_classes的整数向量)映射为二值类别矩阵\n",
    "Y_train = to_categorical(Y_train, num_classes = nb_classes)\n",
    "X_train,X_val,Y_train,Y_val=train_test_split(X_train,Y_train,test_size=0.1)\n",
    "plt.imshow(X_train[0][:,:,0], cmap=\"Greys\")\n",
    "plt.show()"
   ]
  },
  {
   "cell_type": "markdown",
   "metadata": {},
   "source": [
    "### 建立模型"
   ]
  },
  {
   "cell_type": "code",
   "execution_count": 6,
   "metadata": {},
   "outputs": [],
   "source": [
    "model = Sequential()\n",
    "# filters：卷积核的数目（即输出的维度）\n",
    "# kernel_size：卷积核的宽度和长度。如为单个整数，则表示在各个空间维度的相同长度。\n",
    "model.add(Conv2D(filters = 32, kernel_size = (5,5),activation ='relu', input_shape = (28,28,1)))\n",
    "model.add(Conv2D(filters = 32, kernel_size = (5,5),activation ='relu'))\n",
    "model.add(MaxPool2D(pool_size=(2,2)))\n",
    "model.add(Dropout(0.25))\n",
    "model.add(Conv2D(filters = 64, kernel_size = (3,3),activation ='relu'))\n",
    "model.add(Conv2D(filters = 64, kernel_size = (3,3),activation ='relu'))\n",
    "model.add(MaxPool2D(pool_size=(2,2), strides=(2,2)))\n",
    "model.add(Dropout(0.25))\n",
    "# 上面的MaxPooling2D层之后添model.add(Flatten())，Keras能自己分析出输入和输出的维度。\n",
    "model.add(Flatten())\n",
    "model.add(Dense(256, activation = \"relu\"))\n",
    "# 全连接层可以通过Dense指出，指明输出神经元个数和激活函数即可\n",
    "model.add(Dropout(0.5))\n",
    "# 输出层也是dense\n",
    "model.add(Dense(10, activation = \"softmax\"))"
   ]
  },
  {
   "cell_type": "code",
   "execution_count": 9,
   "metadata": {},
   "outputs": [],
   "source": [
    "#plot_model(model)"
   ]
  },
  {
   "cell_type": "markdown",
   "metadata": {},
   "source": [
    "### 数据扩增"
   ]
  },
  {
   "cell_type": "code",
   "execution_count": 10,
   "metadata": {},
   "outputs": [],
   "source": [
    "datagen = ImageDataGenerator(\n",
    "        featurewise_center=False,  # set input mean to 0 over the dataset\n",
    "        samplewise_center=False,  # set each sample mean to 0\n",
    "        featurewise_std_normalization=False,  # divide inputs by std of the dataset\n",
    "        samplewise_std_normalization=False,  # divide each input by its std\n",
    "        zca_whitening=False,  # apply ZCA whitening\n",
    "        rotation_range=10,  # randomly rotate images in the range (degrees, 0 to 180)\n",
    "        zoom_range = 0.1, # Randomly zoom image\n",
    "        width_shift_range=0.1,  # randomly shift images horizontally (fraction of total width)\n",
    "        height_shift_range=0.1,  # randomly shift images vertically (fraction of total height)\n",
    "        horizontal_flip=False,  # randomly flip images\n",
    "        vertical_flip=False)  # randomly flip images"
   ]
  },
  {
   "cell_type": "code",
   "execution_count": 11,
   "metadata": {},
   "outputs": [],
   "source": [
    "# 学习率的设置\n",
    "# monitor：被监测的量\n",
    "# factor：每次减少学习率的因子，学习率将以lr = lr*factor的形式被减少\n",
    "# patience：当patience个epoch过去而模型性能不提升时，学习率减少的动作会被触发\n",
    "# mode：‘auto’，‘min’，‘max’之一，在min模式下，如果检测值触发学习率减少。在max模式下，当检测值不再上升则触发学习率减少。\n",
    "# epsilon：阈值，用来确定是否进入检测值的“平原区”\n",
    "# cooldown：学习率减少后，会经过cooldown个epoch才重新进行正常操作\n",
    "# min_lr：学习率的下限\n",
    "\n",
    "learning_rate_reduction = ReduceLROnPlateau(monitor='val_acc',\n",
    "                                            patience=3,\n",
    "                                            verbose=1,\n",
    "                                            factor=0.5,\n",
    "                                            min_lr=0.00001)"
   ]
  },
  {
   "cell_type": "code",
   "execution_count": 12,
   "metadata": {},
   "outputs": [
    {
     "name": "stdout",
     "output_type": "stream",
     "text": [
      "Epoch 1/30\n",
      " - 11s - loss: 0.9409 - acc: 0.6850 - val_loss: 0.1464 - val_acc: 0.9564\n",
      "Epoch 2/30\n",
      " - 5s - loss: 0.3182 - acc: 0.9020 - val_loss: 0.0765 - val_acc: 0.9774\n",
      "Epoch 3/30\n",
      " - 5s - loss: 0.2043 - acc: 0.9392 - val_loss: 0.0525 - val_acc: 0.9836\n",
      "Epoch 4/30\n",
      " - 5s - loss: 0.1525 - acc: 0.9533 - val_loss: 0.0486 - val_acc: 0.9838\n",
      "Epoch 5/30\n",
      " - 5s - loss: 0.1242 - acc: 0.9624 - val_loss: 0.0525 - val_acc: 0.9833\n",
      "Epoch 6/30\n",
      " - 5s - loss: 0.1040 - acc: 0.9686 - val_loss: 0.0378 - val_acc: 0.9886\n",
      "Epoch 7/30\n",
      " - 5s - loss: 0.0921 - acc: 0.9724 - val_loss: 0.0328 - val_acc: 0.9895\n",
      "Epoch 8/30\n",
      " - 5s - loss: 0.0849 - acc: 0.9751 - val_loss: 0.0215 - val_acc: 0.9936\n",
      "Epoch 9/30\n",
      " - 5s - loss: 0.0786 - acc: 0.9767 - val_loss: 0.0260 - val_acc: 0.9917\n",
      "Epoch 10/30\n",
      " - 5s - loss: 0.0748 - acc: 0.9770 - val_loss: 0.0283 - val_acc: 0.9921\n",
      "Epoch 11/30\n",
      " - 5s - loss: 0.0688 - acc: 0.9793 - val_loss: 0.0216 - val_acc: 0.9943\n",
      "Epoch 12/30\n",
      " - 5s - loss: 0.0677 - acc: 0.9811 - val_loss: 0.0232 - val_acc: 0.9926\n",
      "Epoch 13/30\n",
      " - 5s - loss: 0.0648 - acc: 0.9804 - val_loss: 0.0197 - val_acc: 0.9940\n",
      "Epoch 14/30\n",
      " - 5s - loss: 0.0625 - acc: 0.9818 - val_loss: 0.0215 - val_acc: 0.9933\n",
      "Epoch 15/30\n",
      "\n",
      "Epoch 00015: reducing learning rate to 0.0005000000237487257.\n",
      " - 5s - loss: 0.0594 - acc: 0.9825 - val_loss: 0.0196 - val_acc: 0.9938\n",
      "Epoch 16/30\n",
      " - 5s - loss: 0.0461 - acc: 0.9863 - val_loss: 0.0203 - val_acc: 0.9945\n",
      "Epoch 17/30\n",
      " - 5s - loss: 0.0460 - acc: 0.9859 - val_loss: 0.0185 - val_acc: 0.9952\n",
      "Epoch 18/30\n",
      " - 5s - loss: 0.0441 - acc: 0.9867 - val_loss: 0.0172 - val_acc: 0.9948\n",
      "Epoch 19/30\n",
      " - 5s - loss: 0.0437 - acc: 0.9860 - val_loss: 0.0158 - val_acc: 0.9952\n",
      "Epoch 20/30\n",
      " - 5s - loss: 0.0431 - acc: 0.9867 - val_loss: 0.0164 - val_acc: 0.9950\n",
      "Epoch 21/30\n",
      "\n",
      "Epoch 00021: reducing learning rate to 0.0002500000118743628.\n",
      " - 5s - loss: 0.0436 - acc: 0.9871 - val_loss: 0.0154 - val_acc: 0.9950\n",
      "Epoch 22/30\n",
      " - 5s - loss: 0.0400 - acc: 0.9881 - val_loss: 0.0147 - val_acc: 0.9957\n",
      "Epoch 23/30\n",
      " - 5s - loss: 0.0396 - acc: 0.9883 - val_loss: 0.0122 - val_acc: 0.9962\n",
      "Epoch 24/30\n",
      " - 5s - loss: 0.0349 - acc: 0.9895 - val_loss: 0.0131 - val_acc: 0.9957\n",
      "Epoch 25/30\n",
      " - 5s - loss: 0.0367 - acc: 0.9889 - val_loss: 0.0123 - val_acc: 0.9957\n",
      "Epoch 26/30\n",
      " - 5s - loss: 0.0322 - acc: 0.9897 - val_loss: 0.0119 - val_acc: 0.9964\n",
      "Epoch 27/30\n",
      " - 5s - loss: 0.0358 - acc: 0.9894 - val_loss: 0.0137 - val_acc: 0.9962\n",
      "Epoch 28/30\n",
      " - 5s - loss: 0.0371 - acc: 0.9893 - val_loss: 0.0131 - val_acc: 0.9964\n",
      "Epoch 29/30\n",
      " - 5s - loss: 0.0352 - acc: 0.9898 - val_loss: 0.0137 - val_acc: 0.9955\n",
      "Epoch 30/30\n",
      "\n",
      "Epoch 00030: reducing learning rate to 0.0001250000059371814.\n",
      " - 5s - loss: 0.0344 - acc: 0.9895 - val_loss: 0.0152 - val_acc: 0.9950\n"
     ]
    }
   ],
   "source": [
    "optimizer=RMSprop(lr=0.001, rho=0.9, epsilon=1e-08, decay=0.0)\n",
    "# 使用多类的对数损失categorical_crossentropy\n",
    "model.compile(loss='categorical_crossentropy',\n",
    "              optimizer=optimizer,\n",
    "              metrics=['accuracy'])\n",
    "\n",
    "# history=model.fit(X_train,Y_train,\n",
    "#           batch_size=batch_size,\n",
    "#           epochs=nb_epoch,\n",
    "#           verbose=2,\n",
    "#           validation_data=(X_val,Y_val))\n",
    "\n",
    "\n",
    "# ImageDataGenerator需要和fir_generator配合，才能实时进行数据扩增\n",
    "# 当生成器返回steps_per_epoch次数据时计一个epoch结束，执行下一个epoch\n",
    "history = model.fit_generator(datagen.flow(X_train,Y_train, batch_size=batch_size),\n",
    "                              epochs =nb_epoch, validation_data = (X_val,Y_val),\n",
    "                              verbose = 2, steps_per_epoch=X_train.shape[0] // batch_size+1,\n",
    "                              callbacks=[learning_rate_reduction])"
   ]
  },
  {
   "cell_type": "code",
   "execution_count": 13,
   "metadata": {},
   "outputs": [
    {
     "name": "stdout",
     "output_type": "stream",
     "text": [
      "Val loss: 0.0151633506642\n",
      "Val accuracy: 0.995\n"
     ]
    }
   ],
   "source": [
    "score = model.evaluate(X_val, Y_val, verbose=0)\n",
    "print('Val loss:', score[0])\n",
    "print('Val accuracy:', score[1])"
   ]
  },
  {
   "cell_type": "code",
   "execution_count": 16,
   "metadata": {},
   "outputs": [
    {
     "data": {
      "image/png": "[encoded data removed]",
      "text/plain": [
       "<Figure size 432x288 with 2 Axes>"
      ]
     },
     "metadata": {},
     "output_type": "display_data"
    }
   ],
   "source": [
    "fig, ax = plt.subplots(2,1)\n",
    "ax[0].plot(history.history['loss'], color='b', label=\"Training loss\")\n",
    "ax[0].plot(history.history['val_loss'], color='r', label=\"validation loss\",axes =ax[0])\n",
    "ax[0].legend(loc='best', shadow=True)\n",
    "ax[1].plot(history.history['acc'], color='b', label=\"Training accuracy\")\n",
    "ax[1].plot(history.history['val_acc'], color='r',label=\"Validation accuracy\")\n",
    "ax[1].legend(loc='best', shadow=True)\n",
    "plt.show()"
   ]
  },
  {
   "cell_type": "code",
   "execution_count": 17,
   "metadata": {},
   "outputs": [],
   "source": [
    "def plot_confusion_matrix(cm, classes,\n",
    "                          normalize=False,\n",
    "                          title='Confusion matrix',\n",
    "                          cmap=\"Blues\"):\n",
    "    \"\"\"\n",
    "    This function prints and plots the confusion matrix.\n",
    "    Normalization can be applied by setting `normalize=True`.\n",
    "    \"\"\"\n",
    "    plt.imshow(cm, interpolation='nearest', cmap=cmap)\n",
    "    plt.title(title)\n",
    "    plt.colorbar()\n",
    "    tick_marks = np.arange(len(classes))\n",
    "    plt.xticks(tick_marks, classes, rotation=45)\n",
    "    plt.yticks(tick_marks, classes)\n",
    "\n",
    "    # 是否进行标准化\n",
    "    if normalize:\n",
    "        cm = cm.astype('float') / cm.sum(axis=1)[:, np.newaxis]\n",
    "\n",
    "    thresh = cm.max() / 2.\n",
    "    for i, j in itertools.product(range(cm.shape[0]), range(cm.shape[1])):\n",
    "        plt.text(j, i, cm[i, j],\n",
    "                 horizontalalignment=\"center\",\n",
    "                 color=\"white\" if cm[i, j] > thresh else \"black\")\n",
    "\n",
    "    plt.tight_layout()\n",
    "    plt.ylabel('True label')\n",
    "    plt.xlabel('Predicted label')\n",
    "    plt.show()"
   ]
  },
  {
   "cell_type": "code",
   "execution_count": 18,
   "metadata": {},
   "outputs": [
    {
     "data": {
      "image/png": "[encoded data removed]",
      "text/plain": [
       "<Figure size 432x288 with 2 Axes>"
      ]
     },
     "metadata": {},
     "output_type": "display_data"
    }
   ],
   "source": [
    "Y_pred = model.predict(X_val)\n",
    "Y_pred_classes = np.argmax(Y_pred,axis = 1)\n",
    "Y_true = np.argmax(Y_val,axis = 1)\n",
    "confusion_mtx = confusion_matrix(Y_true, Y_pred_classes)\n",
    "# 绘制混淆矩阵\n",
    "plot_confusion_matrix(confusion_mtx, classes = range(10))"
   ]
  },
  {
   "cell_type": "code",
   "execution_count": 19,
   "metadata": {},
   "outputs": [],
   "source": [
    "def display_errors(errors_index,img_errors,pred_errors, obs_errors):\n",
    "    n = 0\n",
    "    nrows = 2\n",
    "    ncols = 3\n",
    "    fig, ax = plt.subplots(nrows,ncols,sharex=True,sharey=True)\n",
    "    for row in range(nrows):\n",
    "        for col in range(ncols):\n",
    "            error = errors_index[n]\n",
    "            ax[row,col].imshow((img_errors[error]).reshape((28,28)),cmap=\"Greys\")\n",
    "            ax[row,col].set_title(\"Predicted label :{}\\nTrue label :{}\".format(pred_errors[error],obs_errors[error]))\n",
    "            n += 1\n",
    "    plt.show()"
   ]
  },
  {
   "cell_type": "code",
   "execution_count": 20,
   "metadata": {},
   "outputs": [],
   "source": [
    "errors = (Y_pred_classes - Y_true != 0)  # 矩阵相减得到误差集（?*1）\n",
    "# 使用布尔索引\n",
    "Y_pred_classes_errors = Y_pred_classes[errors]  # 误差集的预测标签Y（?*1）\n",
    "Y_pred_errors = Y_pred[errors]  # 误差集的预测序列（?*10）\n",
    "Y_true_errors = Y_true[errors]  # 误差集的真实标签Y（?*1）\n",
    "X_val_errors = X_val[errors]  # 误差集的特征X，即数字图片（?*28*28*1）"
   ]
  },
  {
   "cell_type": "code",
   "execution_count": 26,
   "metadata": {},
   "outputs": [
    {
     "data": {
      "image/png": "[encoded data removed]",
      "text/plain": [
       "<Figure size 432x288 with 6 Axes>"
      ]
     },
     "metadata": {},
     "output_type": "display_data"
    },
    {
     "name": "stdout",
     "output_type": "stream",
     "text": [
      "Begin to predict for testing data ...\n"
     ]
    }
   ],
   "source": [
    "Y_pred_errors_prob = np.max(Y_pred_errors,axis = 1)\n",
    "# 误差集中对真实标签的预测概率，np.diagonal是返回对角线的元素\n",
    "true_prob_errors = np.diagonal(np.take(Y_pred_errors, Y_true_errors, axis=1))\n",
    "delta_pred_true_errors = Y_pred_errors_prob - true_prob_errors\n",
    "# 排序并返回的是数组值从小到大的索引值\n",
    "sorted_dela_errors = np.argsort(delta_pred_true_errors)\n",
    "most_important_errors = sorted_dela_errors[-6:]\n",
    "display_errors(most_important_errors, X_val_errors, Y_pred_classes_errors, Y_true_errors)\n"
   ]
  },
  {
   "cell_type": "code",
   "execution_count": null,
   "metadata": {},
   "outputs": [],
   "source": [
    "# '预测测试集'''\n",
    "print('Begin to predict for testing data ...')\n",
    "results = model.predict(test_data)\n",
    "results = np.argmax(results,axis = 1)\n",
    "results = pd.Series(results,name=\"Label\")\n",
    "submission = pd.concat([pd.Series(range(1,28001),name = \"ImageId\"),results],axis = 1)\n",
    "submission.to_csv(\"submit.csv\",index=False)\n",
    "print('over')"
   ]
  }
 ],
 "metadata": {
  "kernelspec": {
   "display_name": "Python 3",
   "language": "python",
   "name": "python3"
  },
  "language_info": {
   "codemirror_mode": {
    "name": "ipython",
    "version": 3
   },
   "file_extension": ".py",
   "mimetype": "text/x-python",
   "name": "python",
   "nbconvert_exporter": "python",
   "pygments_lexer": "ipython3",
   "version": "3.6.5"
  }
 },
 "nbformat": 4,
 "nbformat_minor": 2
}
